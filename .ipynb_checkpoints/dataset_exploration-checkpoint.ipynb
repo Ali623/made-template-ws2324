{
 "cells": [
  {
   "cell_type": "code",
   "execution_count": 11,
   "id": "ca5f8587",
   "metadata": {},
   "outputs": [],
   "source": [
    "# import necessary libraries\n",
    "import pandas as pd\n",
    "import sqlite3"
   ]
  },
  {
   "cell_type": "code",
   "execution_count": 12,
   "id": "8f242b5f",
   "metadata": {},
   "outputs": [],
   "source": [
    "def connect_to_database(database_path):\n",
    "    \n",
    "    # Connect to the SQLite database and retrieve table names.\n",
    "    conn = sqlite3.connect(database_path)\n",
    "    cursor = conn.cursor()\n",
    "    cursor.execute(\"SELECT name FROM sqlite_master WHERE type='table';\")\n",
    "    table_names = [table[0] for table in cursor.fetchall()]\n",
    "    return conn, table_names\n",
    "\n",
    "def read_tables_into_dataframes(conn, table_names):\n",
    "    \n",
    "    # Read tables into Pandas DataFrames and store them in a dictionary.\n",
    "    dataframes = {}\n",
    "    for table_name in table_names:\n",
    "        query = f\"SELECT * FROM {table_name};\"\n",
    "        df = pd.read_sql_query(query, conn)\n",
    "        dataframes[table_name] = df\n",
    "    return dataframes\n",
    "\n",
    "def perform_data_analysis(dataframes):\n",
    "    \"\"\"\n",
    "    Perform basic data analysis on each DataFrame.\n",
    "    \"\"\"\n",
    "    for table_name, df in dataframes.items():\n",
    "        print(f\"Table: {table_name}\")\n",
    "        print(df.head())\n",
    "        print('\\n')\n",
    "\n",
    "def close_database_connection(conn):\n",
    "    \"\"\"\n",
    "    Close the database connection.\n",
    "    \"\"\"\n",
    "    conn.close()"
   ]
  },
  {
   "cell_type": "code",
   "execution_count": 13,
   "id": "2bb148ee",
   "metadata": {},
   "outputs": [],
   "source": [
    "# Connect to the SQLite database\n",
    "database_path = r'data\\Tree.sqlite'\n",
    "conn, table_names = connect_to_database(database_path)"
   ]
  },
  {
   "cell_type": "code",
   "execution_count": 14,
   "id": "7cb54a1b",
   "metadata": {},
   "outputs": [],
   "source": [
    "# Read the tables into Pandas DataFrames\n",
    "dataframes = read_tables_into_dataframes(conn, table_names)"
   ]
  },
  {
   "cell_type": "code",
   "execution_count": 15,
   "id": "94ca6a3e",
   "metadata": {},
   "outputs": [
    {
     "name": "stdout",
     "output_type": "stream",
     "text": [
      "Table: table_1\n",
      "   index  Care_Object  Object_Type  District  X_coordinate  Y_coordinate  \\\n",
      "0      0          461            6         8        359814       5645658   \n",
      "1      1         1637            6         8        359797       5645630   \n",
      "2      2         1207            6         9        358277       5651918   \n",
      "3      3         1207            6         9        358271       5651922   \n",
      "4      4         1207            6         9        358240       5652009   \n",
      "\n",
      "   Tribe_of  Stem_bis  Crown  Height  Age_estimate  \n",
      "0         0        50      8      10            25  \n",
      "1         0        45     10      10            25  \n",
      "2         0        70     12      16            55  \n",
      "3         0        60     10      16            45  \n",
      "4         0         5      1       6             0  \n",
      "\n",
      "\n",
      "Table: table_2\n",
      "   index Tree_number  High_value Legal_value Kr_diam  ST_Scope  Tree_Height  \\\n",
      "0      0           1   5549510,9  473366,239       8       141            7   \n",
      "1      1           2  5549517,24  473363,459       8       141            7   \n",
      "2      2           3  5549524,39  473360,149       8       138            7   \n",
      "3      3           4     5549531  473357,239       8       145            7   \n",
      "4      4           5  5549537,75  473354,479       8       141            7   \n",
      "\n",
      "   St_diam  Planting_year Kr_Radius  \n",
      "0       45           1920         4  \n",
      "1       45           1920         4  \n",
      "2       44           1920         4  \n",
      "3       46           1920         4  \n",
      "4       45           1920         4  \n",
      "\n",
      "\n"
     ]
    }
   ],
   "source": [
    "# Perform data analysis\n",
    "perform_data_analysis(dataframes)\n",
    "\n",
    "# Close the database connection\n",
    "close_database_connection(conn)"
   ]
  },
  {
   "cell_type": "code",
   "execution_count": null,
   "id": "d670bcc3",
   "metadata": {},
   "outputs": [],
   "source": []
  }
 ],
 "metadata": {
  "kernelspec": {
   "display_name": "Python 3 (ipykernel)",
   "language": "python",
   "name": "python3"
  },
  "language_info": {
   "codemirror_mode": {
    "name": "ipython",
    "version": 3
   },
   "file_extension": ".py",
   "mimetype": "text/x-python",
   "name": "python",
   "nbconvert_exporter": "python",
   "pygments_lexer": "ipython3",
   "version": "3.9.15"
  }
 },
 "nbformat": 4,
 "nbformat_minor": 5
}
